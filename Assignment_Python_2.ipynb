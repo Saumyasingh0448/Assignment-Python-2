{
  "nbformat": 4,
  "nbformat_minor": 0,
  "metadata": {
    "colab": {
      "provenance": []
    },
    "kernelspec": {
      "name": "python3",
      "display_name": "Python 3"
    },
    "language_info": {
      "name": "python"
    }
  },
  "cells": [
    {
      "cell_type": "markdown",
      "source": [
        "# **Data Types and Structures Questions**\n",
        "\n",
        "1.  What are data structures, and why are they important?\n",
        "-  A data structure is a way of organizing and storing data efficiently for easy access and modification. They are important because they improve performance, memory usage, and scalability in software applications. Common types include arrays, linked lists, stacks, queues, trees, graphs, and hash tables. Proper use of data structures enhances algorithm efficiency and is essential for problem-solving in computing.\n",
        "\n",
        "2.  Explain the difference between mutable and immutable data types with examples?\n",
        "- Mutable data types can be changed after creation, while immutable data types cannot be modified once created.\n",
        "\n",
        "Examples:\n",
        "Mutable: list, dict, set\n",
        "my_list = [1, 2, 3]\n",
        "my_list.append(4)  # Modifies the original list\n",
        "print(my_list)  # Output: [1, 2, 3, 4]\n",
        "Immutable: int, float, str, tuple\n",
        "my_str = \"Hello\"\n",
        "new_str = my_str + \" World\"  # Creates a new string\n",
        "print(new_str)  # Output: \"Hello World\"\n",
        "\n",
        "3. What are the main differences between lists and tuples in Python?\n",
        "-  Lists in Python are mutable, meaning they can be modified, while tuples are immutable, meaning they cannot be changed after creation. Lists use square brackets [], whereas tuples use parentheses (). Due to their dynamic nature, lists are slower and use more memory, while tuples are faster and more memory-efficient. Lists are preferred for data that needs modification, while tuples are ideal for fixed data like constants.\n",
        "\n",
        "4. Describe how dictionaries store data?\n",
        "- Dictionaries in Python store data as key-value pairs using a hashing mechanism. Each key is unique and maps to a specific value. Python dictionaries use a hash table internally, allowing for fast lookups, insertions, and deletions with an average time complexity .\n",
        "\n",
        "5. Why might you use a set instead of a list in Python?\n",
        "- You need unique values: Sets automatically remove duplicates.\n",
        "You need fast membership testing: Checking if an item is in a set is very efficient.\n",
        "You want to perform set operations: Sets allow for easy union, intersection, and difference calculations.\n",
        "\n",
        "6. What is a string in Python, and how is it different from a list?\n",
        "- In Python:\n",
        "\n",
        "A string is a sequence of characters (text) enclosed in quotes. It's designed to handle textual data.\n",
        "A list is an ordered collection of items, which can be of any data type (numbers, strings, other lists, etc.), enclosed in square brackets.\n",
        "Here's a key difference:\n",
        "\n",
        "Strings are immutable (cannot be changed after creation), while lists are mutable (can be modified).\n",
        "\n",
        "7. How do tuples ensure data integrity in Python?\n",
        "-  In essence, tuples ensure data integrity in Python through their immutability. This means:\n",
        "\n",
        "Once a tuple is created, its elements cannot be modified, added, or removed.\n",
        "Data Protection:\n",
        "This prevents accidental changes, keeping your data consistent and reliable.\n",
        "\n",
        "\n",
        "8.  What is a hash table, and how does it relate to dictionaries in Python?\n",
        "-  Essentially, a hash table is a data structure designed for very fast lookups. Here's how it relates to Python dictionaries:\n",
        "\n",
        "Hash Table Basics:\n",
        "\n",
        "A hash table uses a \"hash function\" to convert a \"key\" into an index (a location) in an array.\n",
        "This allows it to quickly find the \"value\" associated with that key.\n",
        "Python Dictionaries:\n",
        "\n",
        "Python dictionaries are implemented using hash tables\n",
        "When you use a dictionary, Python uses a hash function behind the scenes to store and retrieve key-value pairs.\n",
        "This is why dictionaries offer very efficient access to their elements.\n",
        "\n",
        "9.  Can lists contain different data types in Python?\n",
        "- Yes, Python lists are very flexible and can indeed contain different data types within the same list. This is a key feature of Python's dynamic typing.\n",
        "\n",
        "Here's a concise explanation:\n",
        "\n",
        "Mixed Data Types:\n",
        "A single Python list can hold integers, strings, floats, booleans, and even other lists or dictionaries, all at the same time.\n",
        "This flexibility makes lists very versatile for storing various kinds of data.\n",
        "\n",
        "10.  Explain why strings are immutable in Python?\n",
        "-  In short, Python strings are immutable for:\n",
        "\n",
        "Efficiency:\n",
        "Faster memory management and string interning.\n",
        "Consistency:\n",
        "Predictable behavior and prevents unexpected changes.\n",
        "Security:\n",
        "Protects data integrity, especially in dictionaries.\n",
        "Thread Safety:\n",
        "Makes strings safe for use in multithreaded programs.\n",
        "\n",
        "11.  What advantages do dictionaries offer over lists for certain tasks?\n",
        "Dictionaries offer these key advantages over lists for specific tasks:\n",
        "\n",
        "Faster Lookups:\n",
        "Dictionaries use keys for direct access, making lookups much faster than searching through a list.\n",
        "Key-Value Association:\n",
        "Dictionaries store data as key-value pairs, which is ideal for representing relationships and structured data.\n",
        "Efficient Data Retrieval:\n",
        "When you know the key, you can instantly get the associated value.\n",
        "\n",
        "12.  Describe a scenario where using a tuple would be preferable over a list?\n",
        "A scenario where a tuple is preferable over a list:\n",
        "\n",
        "Storing coordinates:\n",
        "If you need to represent a point in 2D space (e.g., (x, y)), a tuple is ideal because coordinates should not change.\n",
        "Representing a record:\n",
        "When you have a fixed set of related data, like a person's name and age (\"Alice\", 30), a tuple ensures that this data remains consistent.\n",
        "Dictionary keys:\n",
        "If you need to use a collection as a key in a dictionary. Because lists are mutable they cannot be used as dictionary keys, but tuples can.\n",
        "\n",
        "13. How do sets handle duplicate values in Python?\n",
        "Sets in Python handle duplicate values by automatically eliminating them. Here's how it works:\n",
        "\n",
        "Uniqueness Enforcement:\n",
        "When you create a set or add elements to it, Python checks if each element already exists in the set.\n",
        "If an element is already present, it is not added again.\n",
        "Hash-Based Implementation:\n",
        "Sets are implemented using hash tables, which are highly efficient for checking the presence of an element.\n",
        "This allows Python to quickly determine if a value is a duplicate.\n",
        "In essence, sets inherently maintain a collection of unique elements, ensuring that no duplicates are stored.\n",
        "\n",
        "14.  How does the “in” keyword work differently for lists and dictionaries?\n",
        "-  Here's how the in keyword differs for lists and dictionaries:\n",
        "\n",
        "Lists:\n",
        "The in keyword checks if a value exists within the elements of the list. It performs a linear search, checking each element sequentially.\n",
        "Dictionaries:\n",
        "The in keyword checks if a value exists as a key within the dictionary. It leverages the dictionary's hash table, resulting in a much faster lookup.\n",
        "\n",
        "15. Can you modify the elements of a tuple? Explain why or why not?\n",
        "- No, you cannot directly modify the elements of a tuple in Python. This is because tuples are immutable. Here's a concise explanation:\n",
        "\n",
        "Immutability:\n",
        "\n",
        "\"Immutable\" means that once a tuple is created, its contents cannot be changed. You cannot add, remove, or change individual elements within the tuple.\n",
        "This is a fundamental property of tuples.\n",
        "Why?\n",
        "\n",
        "This immutability provides data integrity, ensuring that the contents of a tuple remain constant throughout a program.\n",
        "It also allows for certain optimizations within the python language.\n",
        "Therefore, if you need a data structure that can be modified, you should use a list instead of a tuple.\n",
        "\n",
        "16. What is a nested dictionary, and give an example of its use case?\n",
        "- A nested dictionary in Python is a dictionary that contains other dictionaries as values. It allows you to represent complex, hierarchical data structures.\n",
        "\n",
        "Here's a breakdown:\n",
        "\n",
        "Definition:\n",
        "\n",
        "Essentially, it's a dictionary within a dictionary. This allows for multiple levels of data organization.\n",
        "Use Case:\n",
        "\n",
        "Representing structured data:\n",
        "For example, storing employee information where each employee's record contains further details like their department, contact information, and skills.\n",
        "Another very common use case is when working with data that is in JSON format. Because JSON data is naturally hierarchical, nested dictionaries are perfect for representing it.\n",
        "employee = {\n",
        "    \"John\": {\n",
        "        \"department\": \"Engineering\",\n",
        "        \"details\": {\n",
        "            \"position\": \"Software Engineer\",\n",
        "            \"skills\": [\"Python\", \"Java\"]\n",
        "        }\n",
        "    },\n",
        "    \"Jane\": {\n",
        "        \"department\": \"Marketing\",\n",
        "        \"details\": {\n",
        "            \"position\": \"Marketing Manager\",\n",
        "            \"skills\": [\"Social Media\", \"Analytics\"]\n",
        "        }\n",
        "    }\n",
        "}\n",
        "In this example the value associated with the keys \"John\" and \"Jane\" are also dictionaries. This allows for more complex data storage.\n",
        "\n",
        "17.  Describe the time complexity of accessing elements in a dictionary?\n",
        "- The time complexity of accessing elements in a Python dictionary is, on average, O(1) (constant time). This means that retrieving a value by its key takes roughly the same amount of time, regardless of the dictionary's size.\n",
        "\n",
        "18.  In what situations are lists preferred over dictionaries?\n",
        "- Lists are preferred over dictionaries in situations where:\n",
        "\n",
        "Order matters:\n",
        "If the sequence of elements is important, lists preserve insertion order, while dictionaries (prior to Python 3.7) do not guarantee order.\n",
        "Sequential access:\n",
        "If you need to iterate through elements in a specific order, lists are more suitable.\n",
        "Simple collections:\n",
        "When you have a simple collection of items and don't need to associate them with keys, lists are more straightforward.\n",
        "\n",
        "19. Why are dictionaries considered unordered, and how does that affect data retrieval?\n",
        "Dictionaries are considered unordered because:\n",
        "\n",
        "Hash-based storage: They use a hash table, which doesn't inherently maintain insertion order (though Python 3.7+ preserves it).\n",
        "This affects data retrieval by:\n",
        "\n",
        "Fast key lookups: Retrieval is based on keys, not position, making it very efficient (O(1) on average).\n",
        "No positional access: You can't rely on the order of items; you must use keys.\n",
        "\n",
        "20.  Explain the difference between a list and a dictionary in terms of data retrieval.\n",
        "\n",
        "The core difference in data retrieval between lists and dictionaries lies in how you access the data:\n",
        "\n",
        "Lists:\n",
        "Data retrieval is based on numerical indexes (positions). You access elements by their position in the sequence (e.g., list[0], list[1]).\n",
        "Searching for a specific value in a list can require checking each element sequentially, which can be slow for large lists.\n",
        "Dictionaries:\n",
        "Data retrieval is based on keys. You access values by their associated keys (e.g., dictionary[\"name\"], dictionary[\"age\"]).\n",
        "Dictionaries use hash tables, which allow for very fast lookups based on keys, regardless of the dictionary's size.\n",
        "In essence:\n",
        "\n",
        "Lists: \"Give me the item at this position.\"\n",
        "Dictionaries: \"Give me the value associated with this key.\""
      ],
      "metadata": {
        "id": "QtLM9D_rKXyX"
      }
    },
    {
      "cell_type": "code",
      "execution_count": null,
      "metadata": {
        "id": "2RjpljKmJ3xm"
      },
      "outputs": [],
      "source": []
    },
    {
      "cell_type": "markdown",
      "source": [
        "## PRACTICAL **QUESTION**\n",
        "\n",
        "1. Write a code to create a string with your name and print it?"
      ],
      "metadata": {
        "id": "lK0hE1ZKRHb4"
      }
    },
    {
      "cell_type": "code",
      "source": [
        "my_name = \"Your Name Here\"\n",
        "print(my_name)"
      ],
      "metadata": {
        "colab": {
          "base_uri": "https://localhost:8080/"
        },
        "id": "D0Sy6-RDSYCm",
        "outputId": "c5f30a42-bac0-4876-e03b-6cfb56322062"
      },
      "execution_count": 1,
      "outputs": [
        {
          "output_type": "stream",
          "name": "stdout",
          "text": [
            "Your Name Here\n"
          ]
        }
      ]
    },
    {
      "cell_type": "markdown",
      "source": [
        "2. Write a code to find the length of the string \"Hello World\"?"
      ],
      "metadata": {
        "id": "8tC_xKDqScSD"
      }
    },
    {
      "cell_type": "code",
      "source": [
        "my_string = \"Hello World\"\n",
        "string_length = len(my_string)\n",
        "print(string_length)"
      ],
      "metadata": {
        "colab": {
          "base_uri": "https://localhost:8080/"
        },
        "id": "IRdxsHquSYh5",
        "outputId": "e1c4abe6-bc18-47d1-fd3a-36c4f879f891"
      },
      "execution_count": 3,
      "outputs": [
        {
          "output_type": "stream",
          "name": "stdout",
          "text": [
            "11\n"
          ]
        }
      ]
    },
    {
      "cell_type": "markdown",
      "source": [
        "3. Write a code to slice the first 3 characters from the string \"Python Programming\"?"
      ],
      "metadata": {
        "id": "xlua6uljSofR"
      }
    },
    {
      "cell_type": "code",
      "source": [
        "my_string = \"Python Programming\"\n",
        "sliced_string = my_string[:3]\n",
        "print(sliced_string)"
      ],
      "metadata": {
        "colab": {
          "base_uri": "https://localhost:8080/"
        },
        "id": "RrUL9LTSS620",
        "outputId": "ea8ef1b7-58f9-4f0b-f7a9-4bd5b3936134"
      },
      "execution_count": 2,
      "outputs": [
        {
          "output_type": "stream",
          "name": "stdout",
          "text": [
            "Pyt\n"
          ]
        }
      ]
    },
    {
      "cell_type": "code",
      "source": [
        "4. Write a code to convert the string \"hello\" to uppercase?"
      ],
      "metadata": {
        "id": "VfEZJlkCTFyh"
      },
      "execution_count": null,
      "outputs": []
    },
    {
      "cell_type": "code",
      "source": [
        "my_string = \"hello\"\n",
        "uppercase_string = my_string.upper()\n",
        "print(uppercase_string)"
      ],
      "metadata": {
        "colab": {
          "base_uri": "https://localhost:8080/"
        },
        "id": "oeK8_hzDS_Pb",
        "outputId": "95399aca-2ac0-438b-f009-d45c3a1e7b37"
      },
      "execution_count": 4,
      "outputs": [
        {
          "output_type": "stream",
          "name": "stdout",
          "text": [
            "HELLO\n"
          ]
        }
      ]
    },
    {
      "cell_type": "markdown",
      "source": [
        "5.  Write a code to replace the word \"apple\" with \"orange\" in the string \"I like apple\"?"
      ],
      "metadata": {
        "id": "dgTXAbc6TWCe"
      }
    },
    {
      "cell_type": "code",
      "source": [
        "my_string = \"I like apple\"\n",
        "new_string = my_string.replace(\"apple\", \"orange\")\n",
        "print(new_string)"
      ],
      "metadata": {
        "colab": {
          "base_uri": "https://localhost:8080/"
        },
        "id": "ye6nN9E5TYS7",
        "outputId": "be446c49-3d01-4b07-ea1a-27dbc7d3bc77"
      },
      "execution_count": 6,
      "outputs": [
        {
          "output_type": "stream",
          "name": "stdout",
          "text": [
            "I like orange\n"
          ]
        }
      ]
    },
    {
      "cell_type": "markdown",
      "source": [
        "6.  Write a code to create a list with numbers 1 to 5 and print it\n"
      ],
      "metadata": {
        "id": "x_7_EEVLTcPp"
      }
    },
    {
      "cell_type": "code",
      "source": [
        "my_list = [1, 2, 3, 4, 5]\n",
        "print(my_list)"
      ],
      "metadata": {
        "colab": {
          "base_uri": "https://localhost:8080/"
        },
        "id": "CGn3R8dKTiV1",
        "outputId": "67d6e255-e6a3-49ca-c143-3526f692bf43"
      },
      "execution_count": 5,
      "outputs": [
        {
          "output_type": "stream",
          "name": "stdout",
          "text": [
            "[1, 2, 3, 4, 5]\n"
          ]
        }
      ]
    },
    {
      "cell_type": "markdown",
      "source": [
        "7. Write a code to append the number 10 to the list [1, 2, 3, 4]?"
      ],
      "metadata": {
        "id": "fEyiYTAnTsOD"
      }
    },
    {
      "cell_type": "code",
      "source": [
        "my_list = [1, 2, 3, 4]\n",
        "my_list.append(10)\n",
        "print(my_list)"
      ],
      "metadata": {
        "colab": {
          "base_uri": "https://localhost:8080/"
        },
        "id": "6ttD7rCSTi6k",
        "outputId": "0ccf1037-adcf-46f8-e4cd-ccdcb46d44c1"
      },
      "execution_count": 7,
      "outputs": [
        {
          "output_type": "stream",
          "name": "stdout",
          "text": [
            "[1, 2, 3, 4, 10]\n"
          ]
        }
      ]
    },
    {
      "cell_type": "markdown",
      "source": [
        "8. Write a code to remove the number 3 from the list [1, 2, 3, 4, 5]?"
      ],
      "metadata": {
        "id": "_xNteXFtT66-"
      }
    },
    {
      "cell_type": "markdown",
      "source": [],
      "metadata": {
        "id": "Tkl3yOfeT6vV"
      }
    },
    {
      "cell_type": "code",
      "source": [
        "my_list = [1, 2, 3, 4, 5]\n",
        "my_list.remove(3)\n",
        "print(my_list)"
      ],
      "metadata": {
        "colab": {
          "base_uri": "https://localhost:8080/"
        },
        "id": "RPe3_a4mT30V",
        "outputId": "b37f016e-2bc0-4016-f094-e20c176f9f96"
      },
      "execution_count": 8,
      "outputs": [
        {
          "output_type": "stream",
          "name": "stdout",
          "text": [
            "[1, 2, 4, 5]\n"
          ]
        }
      ]
    },
    {
      "cell_type": "markdown",
      "source": [
        "9. Write a code to access the second element in the list ['a', 'b', 'c', 'd']?"
      ],
      "metadata": {
        "id": "_RVG_HEHUJIj"
      }
    },
    {
      "cell_type": "code",
      "source": [
        "my_list = ['a', 'b', 'c', 'd']\n",
        "second_element = my_list[1]\n",
        "print(second_element)"
      ],
      "metadata": {
        "colab": {
          "base_uri": "https://localhost:8080/"
        },
        "id": "qAL_cnG9UGaJ",
        "outputId": "8a55c343-5cf4-4351-9d95-699f4b09d39b"
      },
      "execution_count": 9,
      "outputs": [
        {
          "output_type": "stream",
          "name": "stdout",
          "text": [
            "b\n"
          ]
        }
      ]
    },
    {
      "cell_type": "markdown",
      "source": [
        "10. Write a code to reverse the list [10, 20, 30, 40, 50]."
      ],
      "metadata": {
        "id": "Xiav5DcgUUah"
      }
    },
    {
      "cell_type": "code",
      "source": [
        "my_list = [10, 20, 30, 40, 50]\n",
        "my_list.reverse()\n",
        "\n"
      ],
      "metadata": {
        "colab": {
          "base_uri": "https://localhost:8080/"
        },
        "id": "_ijN6ps9UTez",
        "outputId": "aad769e9-f152-4002-b9da-e81e196592b0"
      },
      "execution_count": 10,
      "outputs": [
        {
          "output_type": "stream",
          "name": "stdout",
          "text": [
            "[50, 40, 30, 20, 10]\n"
          ]
        }
      ]
    },
    {
      "cell_type": "markdown",
      "source": [
        "11. Write a code to create a tuple with the elements 100, 200, 300 and print it."
      ],
      "metadata": {
        "id": "UQ-bsDFEUc0g"
      }
    },
    {
      "cell_type": "code",
      "source": [
        "my_tuple = (100, 200, 300)\n",
        "print(my_tuple)"
      ],
      "metadata": {
        "colab": {
          "base_uri": "https://localhost:8080/"
        },
        "id": "F0lNdLGgUcDe",
        "outputId": "ba2d4b27-5c74-4d17-9a60-3b71ef64b26d"
      },
      "execution_count": 11,
      "outputs": [
        {
          "output_type": "stream",
          "name": "stdout",
          "text": [
            "(100, 200, 300)\n"
          ]
        }
      ]
    },
    {
      "cell_type": "markdown",
      "source": [
        "12.Write a code to access the second-to-last element of the tuple ('red', 'green', 'blue', 'yellow').\n",
        "\n"
      ],
      "metadata": {
        "id": "OCSG7ZFAUk5r"
      }
    },
    {
      "cell_type": "code",
      "source": [
        "my_tuple = ('red', 'green', 'blue', 'yellow')\n",
        "second_to_last = my_tuple[-2]\n",
        "print(second_to_last)"
      ],
      "metadata": {
        "colab": {
          "base_uri": "https://localhost:8080/"
        },
        "id": "R0O--xYBUkKt",
        "outputId": "937916e3-757c-438f-b97d-f260dd757c6d"
      },
      "execution_count": 12,
      "outputs": [
        {
          "output_type": "stream",
          "name": "stdout",
          "text": [
            "blue\n"
          ]
        }
      ]
    },
    {
      "cell_type": "markdown",
      "source": [
        "13.  Write a code to find the minimum number in the tuple (10, 20, 5, 15)."
      ],
      "metadata": {
        "id": "jC2SDmqjUuPV"
      }
    },
    {
      "cell_type": "code",
      "source": [
        "my_tuple = (10, 20, 5, 15)\n",
        "minimum_number = min(my_tuple)\n",
        "print(minimum_number)"
      ],
      "metadata": {
        "colab": {
          "base_uri": "https://localhost:8080/"
        },
        "id": "D-j4M_fCUs-K",
        "outputId": "1186df3b-8f4c-4f8d-c54b-7ab936711b82"
      },
      "execution_count": 13,
      "outputs": [
        {
          "output_type": "stream",
          "name": "stdout",
          "text": [
            "5\n"
          ]
        }
      ]
    },
    {
      "cell_type": "markdown",
      "source": [
        "14.  Write a code to find the index of the element \"cat\" in the tuple ('dog', 'cat', 'rabbit')."
      ],
      "metadata": {
        "id": "sCmi3SO_U1vx"
      }
    },
    {
      "cell_type": "code",
      "source": [
        "my_tuple = ('dog', 'cat', 'rabbit')\n",
        "index_of_cat = my_tuple.index('cat')\n",
        "print(index_of_cat)"
      ],
      "metadata": {
        "colab": {
          "base_uri": "https://localhost:8080/"
        },
        "id": "L-68hINJU1Gu",
        "outputId": "f3344d49-cda8-4e21-b8b9-c05577c74848"
      },
      "execution_count": 14,
      "outputs": [
        {
          "output_type": "stream",
          "name": "stdout",
          "text": [
            "1\n"
          ]
        }
      ]
    },
    {
      "cell_type": "markdown",
      "source": [
        "15.  Write a code to create a tuple containing three different fruits and check if \"kiwi\" is in it."
      ],
      "metadata": {
        "id": "THt0R7CGU7hk"
      }
    },
    {
      "cell_type": "code",
      "source": [
        "fruits = (\"apple\", \"banana\", \"orange\")\n",
        "\n",
        "if \"kiwi\" in fruits:\n",
        "  print(\"kiwi is in the tuple.\")\n",
        "else:my_set = {'a', 'b', 'c'}\n",
        "print(my_set)\n",
        "  print(\"kiwi is not in the tuple.\")"
      ],
      "metadata": {
        "colab": {
          "base_uri": "https://localhost:8080/"
        },
        "id": "FZaMHAdXU65W",
        "outputId": "feb1a690-6c1d-4113-8584-00cb4ea323e3"
      },
      "execution_count": 15,
      "outputs": [
        {
          "output_type": "stream",
          "name": "stdout",
          "text": [
            "kiwi is not in the tuple.\n"
          ]
        }
      ]
    },
    {
      "cell_type": "markdown",
      "source": [
        "16.  Write a code to create a set with the elements 'a', 'b', 'c' and print it."
      ],
      "metadata": {
        "id": "Y5O_PD0nVEkC"
      }
    },
    {
      "cell_type": "code",
      "source": [
        "my_set = {'a', 'b', 'c'}\n",
        "print(my_set)"
      ],
      "metadata": {
        "colab": {
          "base_uri": "https://localhost:8080/"
        },
        "id": "h4OG6LoQVD2S",
        "outputId": "65026022-a09d-4181-b81c-54ca46b79836"
      },
      "execution_count": 16,
      "outputs": [
        {
          "output_type": "stream",
          "name": "stdout",
          "text": [
            "{'b', 'a', 'c'}\n"
          ]
        }
      ]
    },
    {
      "cell_type": "markdown",
      "source": [
        "17. Write a code to clear all elements from the set {1, 2, 3, 4, 5}."
      ],
      "metadata": {
        "id": "duM_bXLWVK7I"
      }
    },
    {
      "cell_type": "code",
      "source": [
        "my_set = {1, 2, 3, 4, 5}\n",
        "my_set.clear()\n",
        "print(my_set)"
      ],
      "metadata": {
        "colab": {
          "base_uri": "https://localhost:8080/"
        },
        "id": "3f2pj7R-VKX0",
        "outputId": "5f35f539-8d3b-490d-bdf3-ae517037448a"
      },
      "execution_count": 17,
      "outputs": [
        {
          "output_type": "stream",
          "name": "stdout",
          "text": [
            "set()\n"
          ]
        }
      ]
    },
    {
      "cell_type": "markdown",
      "source": [
        "18.  Write a code to remove the element 4 from the set {1, 2, 3, 4}."
      ],
      "metadata": {
        "id": "I7JuYUpNVQyY"
      }
    },
    {
      "cell_type": "code",
      "source": [
        "my_set = {1, 2, 3, 4}\n",
        "my_set.remove(4)\n",
        "print(my_set)"
      ],
      "metadata": {
        "colab": {
          "base_uri": "https://localhost:8080/"
        },
        "id": "1FmgW5DbVQIz",
        "outputId": "f3571ce2-f449-4000-d5df-49953bbd619c"
      },
      "execution_count": 18,
      "outputs": [
        {
          "output_type": "stream",
          "name": "stdout",
          "text": [
            "{1, 2, 3}\n"
          ]
        }
      ]
    },
    {
      "cell_type": "markdown",
      "source": [
        "19. Write a code to find the union of two sets {1, 2, 3} and {3, 4, 5}."
      ],
      "metadata": {
        "id": "Ef0BlYcPVXNM"
      }
    },
    {
      "cell_type": "code",
      "source": [
        "set1 = {1, 2, 3}\n",
        "set2 = {3, 4, 5}\n",
        "\n",
        "union_set = set1.union(set2)\n",
        "\n",
        "print(union_set)"
      ],
      "metadata": {
        "colab": {
          "base_uri": "https://localhost:8080/"
        },
        "id": "p8SpQPY0VWbT",
        "outputId": "70b53216-a4e1-40b5-cdac-affbffd91bb9"
      },
      "execution_count": 19,
      "outputs": [
        {
          "output_type": "stream",
          "name": "stdout",
          "text": [
            "{1, 2, 3, 4, 5}\n"
          ]
        }
      ]
    },
    {
      "cell_type": "markdown",
      "source": [
        "\n",
        "20.Write a code to find the intersection of two sets {1, 2, 3} and {2, 3, 4}.\n"
      ],
      "metadata": {
        "id": "l5OQqQG1Vdxi"
      }
    },
    {
      "cell_type": "code",
      "source": [
        "set1 = {1, 2, 3}\n",
        "set2 = {2, 3, 4}\n",
        "\n",
        "intersection_set = set1.intersection(set2)\n",
        "\n",
        "print(intersection_set)"
      ],
      "metadata": {
        "colab": {
          "base_uri": "https://localhost:8080/"
        },
        "id": "6dqwAMNoVdFA",
        "outputId": "7447f1d7-47b4-43e0-fa9b-d75b9dbcf6fe"
      },
      "execution_count": 20,
      "outputs": [
        {
          "output_type": "stream",
          "name": "stdout",
          "text": [
            "{2, 3}\n"
          ]
        }
      ]
    },
    {
      "cell_type": "markdown",
      "source": [
        "21. Write a code to create a dictionary with the keys \"name\", \"age\", and \"city\", and print it"
      ],
      "metadata": {
        "id": "KweqjMpRVoCO"
      }
    },
    {
      "cell_type": "code",
      "source": [
        "my_dict = {\n",
        "    \"name\": \"John Doe\",\n",
        "    \"age\": 30,\n",
        "    \"city\": \"New York\"\n",
        "}\n",
        "\n",
        "print(my_dict)"
      ],
      "metadata": {
        "colab": {
          "base_uri": "https://localhost:8080/"
        },
        "id": "8b54okktVnRr",
        "outputId": "b6e7d1eb-4565-48b8-9c0e-54c471b34d6a"
      },
      "execution_count": 21,
      "outputs": [
        {
          "output_type": "stream",
          "name": "stdout",
          "text": [
            "{'name': 'John Doe', 'age': 30, 'city': 'New York'}\n"
          ]
        }
      ]
    },
    {
      "cell_type": "markdown",
      "source": [
        "22. Write a code to add a new key-value pair \"country\": \"USA\" to the dictionary {'name': 'John', 'age': 25}."
      ],
      "metadata": {
        "id": "ZJ8vcD3cVuMd"
      }
    },
    {
      "cell_type": "code",
      "source": [
        "my_dict = {'name': 'John', 'age': 25}\n",
        "my_dict[\"country\"] = \"USA\"\n",
        "print(my_dict)"
      ],
      "metadata": {
        "colab": {
          "base_uri": "https://localhost:8080/"
        },
        "id": "eGOgeT2uVtlP",
        "outputId": "22df7288-44cf-4f97-b2c1-a878beb6ed08"
      },
      "execution_count": 22,
      "outputs": [
        {
          "output_type": "stream",
          "name": "stdout",
          "text": [
            "{'name': 'John', 'age': 25, 'country': 'USA'}\n"
          ]
        }
      ]
    },
    {
      "cell_type": "markdown",
      "source": [
        "23. Write a code to access the value associated with the key \"name\" in the dictionary {'name': 'Alice', 'age': 30}."
      ],
      "metadata": {
        "id": "PIEkP10AV0dM"
      }
    },
    {
      "cell_type": "code",
      "source": [
        "my_dict = {'name': 'Alice', 'age': 30}\n",
        "name_value = my_dict['name']\n",
        "print(name_value)\n"
      ],
      "metadata": {
        "colab": {
          "base_uri": "https://localhost:8080/"
        },
        "id": "3NwYSyq9VzhD",
        "outputId": "07b3cac1-95e7-4898-bcb3-618b92f13539"
      },
      "execution_count": 23,
      "outputs": [
        {
          "output_type": "stream",
          "name": "stdout",
          "text": [
            "Alice\n"
          ]
        }
      ]
    },
    {
      "cell_type": "markdown",
      "source": [
        "24. Write a code to remove the key \"age\" from the dictionary {'name': 'Bob', 'age': 22, 'city': 'New York'}."
      ],
      "metadata": {
        "id": "i94_j_Z3V8pW"
      }
    },
    {
      "cell_type": "code",
      "source": [
        "my_dict = {'name': 'Bob', 'age': 22, 'city': 'New York'}\n",
        "del my_dict['age']\n",
        "print(my_dict)"
      ],
      "metadata": {
        "colab": {
          "base_uri": "https://localhost:8080/"
        },
        "id": "xR0wzSF_V6RH",
        "outputId": "490c9673-27d6-46dc-c342-7210b9af6034"
      },
      "execution_count": 24,
      "outputs": [
        {
          "output_type": "stream",
          "name": "stdout",
          "text": [
            "{'name': 'Bob', 'city': 'New York'}\n"
          ]
        }
      ]
    },
    {
      "cell_type": "markdown",
      "source": [
        "25.  Write a code to check if the key \"city\" exists in the dictionary {'name': 'Alice', 'city': 'Paris'}."
      ],
      "metadata": {
        "id": "AnhcFEodWFxr"
      }
    },
    {
      "cell_type": "code",
      "source": [
        "my_dict = {'name': 'Alice', 'city': 'Paris'}\n",
        "\n",
        "if 'city' in my_dict:\n",
        "    print(\"The key 'city' exists in the dictionary.\")\n",
        "else:\n",
        "    print(\"The key 'city' does not exist in the dictionary.\")"
      ],
      "metadata": {
        "colab": {
          "base_uri": "https://localhost:8080/"
        },
        "id": "qssmnmsTWDCO",
        "outputId": "8a498274-9755-40cd-d60d-fe2dcdce9f6b"
      },
      "execution_count": 25,
      "outputs": [
        {
          "output_type": "stream",
          "name": "stdout",
          "text": [
            "The key 'city' exists in the dictionary.\n"
          ]
        }
      ]
    },
    {
      "cell_type": "markdown",
      "source": [
        "26. Write a code to create a list, a tuple, and a dictionary, and print them all."
      ],
      "metadata": {
        "id": "KaQe_Z4lWLql"
      }
    },
    {
      "cell_type": "code",
      "source": [
        "my_list = [1, \"hello\", 3.14]\n",
        "my_tuple = (10, 20, \"world\")\n",
        "my_dict = {\"name\": \"Example\", \"age\": 25, \"city\": \"Anytown\"}\n",
        "\n",
        "print(\"List:\", my_list)\n",
        "print(\"Tuple:\", my_tuple)\n",
        "print(\"Dictionary:\", my_dict)"
      ],
      "metadata": {
        "colab": {
          "base_uri": "https://localhost:8080/"
        },
        "id": "RjT2Xj_nWI-d",
        "outputId": "f385139b-3164-4f01-d50e-93c148ee77d5"
      },
      "execution_count": 26,
      "outputs": [
        {
          "output_type": "stream",
          "name": "stdout",
          "text": [
            "List: [1, 'hello', 3.14]\n",
            "Tuple: (10, 20, 'world')\n",
            "Dictionary: {'name': 'Example', 'age': 25, 'city': 'Anytown'}\n"
          ]
        }
      ]
    },
    {
      "cell_type": "markdown",
      "source": [
        "27. Write a code to create a list of 5 random numbers between 1 and 100, sort it in ascending order, and print the\n",
        "result.(replaced)"
      ],
      "metadata": {
        "id": "qpDJuUuOWRl-"
      }
    },
    {
      "cell_type": "code",
      "source": [
        "import random\n",
        "\n",
        "random_numbers = [random.randint(1, 100) for _ in range(5)]\n",
        "\n",
        "random_numbers.sort()\n",
        "\n",
        "print(random_numbers)"
      ],
      "metadata": {
        "colab": {
          "base_uri": "https://localhost:8080/"
        },
        "id": "T46dEANrWQTp",
        "outputId": "0bb53acc-7a1f-4308-a3f9-4f1440b59c9e"
      },
      "execution_count": 27,
      "outputs": [
        {
          "output_type": "stream",
          "name": "stdout",
          "text": [
            "[28, 42, 47, 63, 96]\n"
          ]
        }
      ]
    },
    {
      "cell_type": "markdown",
      "source": [
        "28. Write a code to create a list with strings and print the element at the third index."
      ],
      "metadata": {
        "id": "ZQ2dd7hjWiMl"
      }
    },
    {
      "cell_type": "code",
      "source": [
        "my_list = [\"apple\", \"banana\", \"cherry\", \"date\", \"elderberry\"]\n",
        "\n",
        "# Access the element at index 3 (the fourth element)\n",
        "third_index_element = my_list[3]\n",
        "\n",
        "print(third_index_element)"
      ],
      "metadata": {
        "colab": {
          "base_uri": "https://localhost:8080/"
        },
        "id": "h3wwE8FKWYRO",
        "outputId": "164c4c90-fa53-40ea-8743-49ea510e5cfd"
      },
      "execution_count": 28,
      "outputs": [
        {
          "output_type": "stream",
          "name": "stdout",
          "text": [
            "date\n"
          ]
        }
      ]
    },
    {
      "cell_type": "markdown",
      "source": [
        "29. Write a code to combine two dictionaries into one and print the result."
      ],
      "metadata": {
        "id": "l1Dyy4fsWp4k"
      }
    },
    {
      "cell_type": "code",
      "source": [
        "dict1 = {'a': 1, 'b': 2}\n",
        "dict2 = {'c': 3, 'd': 4}\n",
        "\n",
        "# Method 1: Using the update() method (modifies dict1)\n",
        "dict1.update(dict2)\n",
        "print(dict1)\n",
        "\n",
        "# Method 2: Creating a new dictionary (preserves original dictionaries) - Python 3.9+\n",
        "combined_dict = {**dict1, **dict2}\n",
        "print(combined_dict)\n",
        "\n",
        "#Method 3: Creating a new dictionary - Python 3.5+\n",
        "combined_dict2 = dict1.copy()\n",
        "combined_dict2.update(dict2)\n",
        "print(combined_dict2)"
      ],
      "metadata": {
        "colab": {
          "base_uri": "https://localhost:8080/"
        },
        "id": "jzpOf2VYWo0M",
        "outputId": "d4817e6a-85ad-44ae-8be9-9ee04ec47c3c"
      },
      "execution_count": 29,
      "outputs": [
        {
          "output_type": "stream",
          "name": "stdout",
          "text": [
            "{'a': 1, 'b': 2, 'c': 3, 'd': 4}\n",
            "{'a': 1, 'b': 2, 'c': 3, 'd': 4}\n",
            "{'a': 1, 'b': 2, 'c': 3, 'd': 4}\n"
          ]
        }
      ]
    },
    {
      "cell_type": "markdown",
      "source": [
        "30.  Write a code to convert a list of strings into a set."
      ],
      "metadata": {
        "id": "chqtLzaQWvVc"
      }
    },
    {
      "cell_type": "code",
      "source": [
        "my_list = [\"apple\", \"banana\", \"apple\", \"cherry\", \"banana\"]\n",
        "\n",
        "my_set = set(my_list)\n",
        "\n",
        "print(my_set)"
      ],
      "metadata": {
        "colab": {
          "base_uri": "https://localhost:8080/"
        },
        "id": "5gKo_J-aWutz",
        "outputId": "123059c4-0b6f-4957-f05e-da4327cfa429"
      },
      "execution_count": 30,
      "outputs": [
        {
          "output_type": "stream",
          "name": "stdout",
          "text": [
            "{'banana', 'apple', 'cherry'}\n"
          ]
        }
      ]
    },
    {
      "cell_type": "code",
      "source": [],
      "metadata": {
        "id": "RB9VEugNW0nV"
      },
      "execution_count": null,
      "outputs": []
    }
  ]
}